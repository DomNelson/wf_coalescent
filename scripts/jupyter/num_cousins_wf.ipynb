{
 "cells": [
  {
   "cell_type": "code",
   "execution_count": 13,
   "metadata": {},
   "outputs": [],
   "source": [
    "import sys, os\n",
    "sys.path.append(os.path.expanduser('/home/dnelson/project/msprime/'))\n",
    "import msprime\n",
    "import math"
   ]
  },
  {
   "cell_type": "code",
   "execution_count": 19,
   "metadata": {},
   "outputs": [
    {
     "name": "stdout",
     "output_type": "stream",
     "text": [
      "0.00012\n",
      "6000.0\n"
     ]
    }
   ],
   "source": [
    "c_m = 2 # Would be 1 in monogamous model\n",
    "p = 1 # Cousin-ship\n",
    "N = 100000\n",
    "K = 10000\n",
    "\n",
    "prob_pair_are_cousins = c_m * (2 ** (p + 1) - 1) * (2 ** p) / N\n",
    "num_cousin_pairs = prob_pair_are_cousins * (K ** 2) / 2\n",
    "\n",
    "print(prob_pair_are_cousins)\n",
    "print(num_cousin_pairs)"
   ]
  },
  {
   "cell_type": "code",
   "execution_count": 14,
   "metadata": {},
   "outputs": [],
   "source": [
    "def out_of_africa(nhaps):\n",
    "    \"\"\"\n",
    "    Specify the demographic model used in these simulations (Gravel et al, 2011 PNAS)\n",
    "    \"\"\"\n",
    "    # First we set out the maximum likelihood values of the various parameters\n",
    "    # given in Gravel et al, 2011 Table 2.\n",
    "    N_A = 7300\n",
    "    N_B = 1861\n",
    "    N_AF = 14474\n",
    "    N_EU0 = 1032\n",
    "    N_AS0 = 554\n",
    "    # Times are provided in years, so we convert into generations.\n",
    "    generation_time = 25\n",
    "    T_AF = 148e3 / generation_time\n",
    "    T_B = 51e3 / generation_time\n",
    "    T_EU_AS = 23e3 / generation_time\n",
    "    # We need to work out the starting (diploid) population sizes based on\n",
    "    # the growth rates provided for these two populations\n",
    "    r_EU = 0.0038\n",
    "    r_AS = 0.0048\n",
    "    N_EU = N_EU0 / math.exp(-r_EU * T_EU_AS)\n",
    "    N_AS = N_AS0 / math.exp(-r_AS * T_EU_AS)\n",
    "    # Migration rates during the various epochs.\n",
    "    m_AF_B = 15e-5\n",
    "    m_AF_EU = 2.5e-5\n",
    "    m_AF_AS = 0.78e-5\n",
    "    m_EU_AS = 3.11e-5\n",
    "\n",
    "    # Population IDs correspond to their indexes in the population\n",
    "    # configuration array. Therefore, we have 0=YRI, 1=CEU and 2=CHB\n",
    "    # initially.\n",
    "    population_configurations = [\n",
    "        msprime.PopulationConfiguration(\n",
    "            sample_size=nhaps[0], initial_size=N_AF),\n",
    "        msprime.PopulationConfiguration(\n",
    "            sample_size=nhaps[1], initial_size=N_EU, growth_rate=r_EU),\n",
    "        msprime.PopulationConfiguration(\n",
    "            sample_size=nhaps[2], initial_size=N_AS, growth_rate=r_AS)\n",
    "    ]\n",
    "    migration_matrix = [\n",
    "        [      0, m_AF_EU, m_AF_AS],\n",
    "        [m_AF_EU,       0, m_EU_AS],\n",
    "        [m_AF_AS, m_EU_AS,       0],\n",
    "    ]\n",
    "    demographic_events = [\n",
    "        # CEU and CHB merge into B with rate changes at T_EU_AS\n",
    "        msprime.MassMigration(\n",
    "            time=T_EU_AS, source=2, destination=1, proportion=1.0),\n",
    "        msprime.MigrationRateChange(time=T_EU_AS, rate=0),\n",
    "        msprime.MigrationRateChange(\n",
    "            time=T_EU_AS, rate=m_AF_B, matrix_index=(0, 1)),\n",
    "        msprime.MigrationRateChange(\n",
    "            time=T_EU_AS, rate=m_AF_B, matrix_index=(1, 0)),\n",
    "        msprime.PopulationParametersChange(\n",
    "            time=T_EU_AS, initial_size=N_B, growth_rate=0, population_id=1),\n",
    "        # Population B merges into YRI at T_B\n",
    "        msprime.MassMigration(\n",
    "            time=T_B, source=1, destination=0, proportion=1.0),\n",
    "        # Size changes to N_A at T_AF\n",
    "        msprime.PopulationParametersChange(\n",
    "            time=T_AF, initial_size=N_A, population_id=0)\n",
    "    ]\n",
    "    # Use the demography debugger to print out the demographic history\n",
    "    # that we have just described.\n",
    "    dp = msprime.DemographyDebugger(\n",
    "        Ne=N_A,\n",
    "        population_configurations=population_configurations,\n",
    "        migration_matrix=migration_matrix,\n",
    "        demographic_events=demographic_events)\n",
    "    dp.print_history()\n",
    "\n",
    "    return(population_configurations, migration_matrix, demographic_events)\n",
    "\n"
   ]
  },
  {
   "cell_type": "code",
   "execution_count": 15,
   "metadata": {},
   "outputs": [
    {
     "name": "stdout",
     "output_type": "stream",
     "text": [
      "Creating ll_sim\n",
      "Done\n",
      "Model =  hudson(reference_size=7300)\n",
      "=========================================\n",
      "Epoch: 0 -- 920.0000000000001 generations\n",
      "=========================================\n",
      "     start     end      growth_rate |     0        1        2    \n",
      "   -------- --------       -------- | -------- -------- -------- \n",
      "0 |1.45e+04 1.45e+04              0 |     0     2.5e-05  7.8e-06 \n",
      "1 | 3.4e+04 1.03e+03         0.0038 |  2.5e-05     0    3.11e-05 \n",
      "2 |4.59e+04    554           0.0048 |  7.8e-06 3.11e-05     0    \n",
      "\n",
      "Events @ generation 920.0000000000001\n",
      "   - Mass migration: lineages move from 2 to 1 with probability 1.0\n",
      "   - Migration rate change to 0 everywhere\n",
      "   - Migration rate change for (0, 1) to 0.00015\n",
      "   - Migration rate change for (1, 0) to 0.00015\n",
      "   - Population parameter change for 1: initial_size -> 1861 growth_rate -> 0 \n",
      "==========================================================\n",
      "Epoch: 920.0000000000001 -- 2040.0000000000002 generations\n",
      "==========================================================\n",
      "     start     end      growth_rate |     0        1        2    \n",
      "   -------- --------       -------- | -------- -------- -------- \n",
      "0 |1.45e+04 1.45e+04              0 |     0     0.00015     0    \n",
      "1 |1.86e+03 1.86e+03              0 |  0.00015     0        0    \n",
      "2 |   554     2.56           0.0048 |     0        0        0    \n",
      "\n",
      "Events @ generation 2040.0000000000002\n",
      "   - Mass migration: lineages move from 1 to 0 with probability 1.0\n",
      "===============================================\n",
      "Epoch: 2040.0000000000002 -- 5920.0 generations\n",
      "===============================================\n",
      "     start     end      growth_rate |     0        1        2    \n",
      "   -------- --------       -------- | -------- -------- -------- \n",
      "0 |1.45e+04 1.45e+04              0 |     0     0.00015     0    \n",
      "1 |1.86e+03 1.86e+03              0 |  0.00015     0        0    \n",
      "2 |  2.56   2.09e-08         0.0048 |     0        0        0    \n",
      "\n",
      "Events @ generation 5920.0\n",
      "   - Population parameter change for 0: initial_size -> 7300 \n",
      "================================\n",
      "Epoch: 5920.0 -- inf generations\n",
      "================================\n",
      "     start     end      growth_rate |     0        1        2    \n",
      "   -------- --------       -------- | -------- -------- -------- \n",
      "0 | 7.3e+03  7.3e+03              0 |     0     0.00015     0    \n",
      "1 |1.86e+03 1.86e+03              0 |  0.00015     0        0    \n",
      "2 |2.09e-08     0            0.0048 |     0        0        0    \n",
      "\n"
     ]
    },
    {
     "data": {
      "text/plain": [
       "([<msprime.simulations.PopulationConfiguration at 0x7fe3b72c0550>,\n",
       "  <msprime.simulations.PopulationConfiguration at 0x7fe3b72c04e0>,\n",
       "  <msprime.simulations.PopulationConfiguration at 0x7fe3b72c0470>],\n",
       " [[0, 2.5e-05, 7.8e-06], [2.5e-05, 0, 3.11e-05], [7.8e-06, 3.11e-05, 0]],\n",
       " [{'type': 'mass_migration', 'time': 920.0, 'source': 2, 'dest': 1, 'proportion': 1.0},\n",
       "  {'type': 'migration_rate_change', 'time': 920.0, 'rate': 0, 'matrix_index': None},\n",
       "  {'type': 'migration_rate_change', 'time': 920.0, 'rate': 0.00015, 'matrix_index': (0, 1)},\n",
       "  {'type': 'migration_rate_change', 'time': 920.0, 'rate': 0.00015, 'matrix_index': (1, 0)},\n",
       "  {'type': 'population_parameters_change', 'time': 920.0, 'growth_rate': 0, 'initial_size': 1861, 'population': 1},\n",
       "  {'type': 'mass_migration', 'time': 2040.0, 'source': 1, 'dest': 0, 'proportion': 1.0},\n",
       "  {'type': 'population_parameters_change', 'time': 5920.0, 'growth_rate': None, 'initial_size': 7300, 'population': 0}])"
      ]
     },
     "execution_count": 15,
     "metadata": {},
     "output_type": "execute_result"
    }
   ],
   "source": [
    "out_of_africa([100, 100, 100])"
   ]
  },
  {
   "cell_type": "code",
   "execution_count": null,
   "metadata": {},
   "outputs": [],
   "source": []
  }
 ],
 "metadata": {
  "kernelspec": {
   "display_name": "Python 3",
   "language": "python",
   "name": "python3"
  },
  "language_info": {
   "codemirror_mode": {
    "name": "ipython",
    "version": 3
   },
   "file_extension": ".py",
   "mimetype": "text/x-python",
   "name": "python",
   "nbconvert_exporter": "python",
   "pygments_lexer": "ipython3",
   "version": "3.7.1"
  }
 },
 "nbformat": 4,
 "nbformat_minor": 2
}
